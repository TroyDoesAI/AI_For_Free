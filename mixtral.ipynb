{
  "cells": [
    {
      "cell_type": "markdown",
      "metadata": {
        "id": "view-in-github",
        "colab_type": "text"
      },
      "source": [
        "<a href=\"https://colab.research.google.com/github/Troys-Code/AI_For_Free/blob/main/mixtral.ipynb\" target=\"_parent\"><img src=\"https://colab.research.google.com/assets/colab-badge.svg\" alt=\"Open In Colab\"/></a>"
      ]
    },
    {
      "cell_type": "code",
      "execution_count": null,
      "metadata": {
        "id": "88WyLLrDBe-o",
        "cellView": "form"
      },
      "outputs": [],
      "source": [
        "#@title #Runtime Info\n",
        "gpu_info = !nvidia-smi\n",
        "gpu_info = '\\n'.join(gpu_info)\n",
        "if gpu_info.find('failed') >= 0:\n",
        "  print('Not connected to a GPU')\n",
        "else:\n",
        "  print(gpu_info)\n",
        "from psutil import virtual_memory\n",
        "ram_gb = virtual_memory().total / 1e9\n",
        "print('Your runtime has {:.1f} gigabytes of available RAM\\n'.format(ram_gb))\n",
        "if ram_gb < 20:\n",
        "  print('Not using a high-RAM runtime')\n",
        "else:\n",
        "  print('You are using a high-RAM runtime!')\n"
      ]
    },
    {
      "cell_type": "code",
      "execution_count": null,
      "metadata": {
        "id": "emySi6TEC-M8"
      },
      "outputs": [],
      "source": [
        "#@title # Setup\n",
        "%cd /content/\n",
        "!rm -rf llama.cpp\n",
        "!git clone --depth 1 https://github.com/ggerganov/llama.cpp.git -b mixtral\n",
        "%cd llama.cpp\n",
        "!make LLAMA_CUBLAS=1\n",
        "!wget https://huggingface.co/TheBloke/Mixtral-8x7B-Instruct-v0.1-GGUF/resolve/main/mixtral-8x7b-instruct-v0.1.Q2_K.gguf\n"
      ]
    },
    {
      "cell_type": "code",
      "source": [
        "#@title # Connect using the following address when the server is up.\n",
        "from google.colab.output import eval_js\n",
        "print(eval_js(\"google.colab.kernel.proxyPort(12345)\"))"
      ],
      "metadata": {
        "id": "kxPwlxke3WSK"
      },
      "execution_count": null,
      "outputs": []
    },
    {
      "cell_type": "code",
      "source": [
        "#@title # inference\n",
        "%cd /content/llama.cpp\n",
        "!./server -m mixtral-8x7b-instruct-v0.1.Q2_K.gguf -ngl 27 -c 3500 --port 12345\n"
      ],
      "metadata": {
        "id": "q9IV1xQao-We"
      },
      "execution_count": null,
      "outputs": []
    }
  ],
  "metadata": {
    "accelerator": "GPU",
    "colab": {
      "provenance": [],
      "private_outputs": true,
      "gpuType": "T4",
      "include_colab_link": true
    },
    "kernelspec": {
      "display_name": "Python 3",
      "name": "python3"
    },
    "language_info": {
      "name": "python"
    }
  },
  "nbformat": 4,
  "nbformat_minor": 0
}